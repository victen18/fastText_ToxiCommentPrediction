{
 "cells": [
  {
   "cell_type": "markdown",
   "metadata": {},
   "source": [
    "# Toxic Comment Prediction"
   ]
  },
  {
   "cell_type": "code",
   "execution_count": 2,
   "metadata": {},
   "outputs": [],
   "source": [
    "import ktrain\n",
    "import os\n",
    "\n",
    "os.environ['CUDA_VISIBLE_DEVICES'] = \"-1\"\n",
    "\n",
    "predictor = ktrain.load_predictor('toxic_fasttext')\n",
    "\n",
    "def get_prediciton(x):\n",
    "    pred = predictor.predict([x])\n",
    "    return pred[0]"
   ]
  },
  {
   "cell_type": "code",
   "execution_count": 6,
   "metadata": {},
   "outputs": [],
   "source": [
    "data = 'I hate you. I might kill you'"
   ]
  },
  {
   "cell_type": "code",
   "execution_count": 8,
   "metadata": {},
   "outputs": [],
   "source": [
    "pred = get_prediciton(data)"
   ]
  },
  {
   "cell_type": "code",
   "execution_count": 9,
   "metadata": {},
   "outputs": [
    {
     "data": {
      "text/plain": [
       "[('toxic', 0.8699616),\n",
       " ('severe_toxic', 0.24234846),\n",
       " ('obscene', 0.58386284),\n",
       " ('threat', 0.117777675),\n",
       " ('insult', 0.5546944),\n",
       " ('identity_hate', 0.23453122)]"
      ]
     },
     "execution_count": 9,
     "metadata": {},
     "output_type": "execute_result"
    }
   ],
   "source": [
    "pred"
   ]
  },
  {
   "cell_type": "code",
   "execution_count": 10,
   "metadata": {},
   "outputs": [],
   "source": [
    "import json"
   ]
  },
  {
   "cell_type": "code",
   "execution_count": 11,
   "metadata": {},
   "outputs": [],
   "source": [
    "d = dict(pred)\n",
    "for key in d:\n",
    "    d[key] = str(d[key])"
   ]
  },
  {
   "cell_type": "code",
   "execution_count": 12,
   "metadata": {},
   "outputs": [
    {
     "data": {
      "text/plain": [
       "{'toxic': '0.8699616',\n",
       " 'severe_toxic': '0.24234846',\n",
       " 'obscene': '0.58386284',\n",
       " 'threat': '0.117777675',\n",
       " 'insult': '0.5546944',\n",
       " 'identity_hate': '0.23453122'}"
      ]
     },
     "execution_count": 12,
     "metadata": {},
     "output_type": "execute_result"
    }
   ],
   "source": [
    "d"
   ]
  },
  {
   "cell_type": "code",
   "execution_count": 13,
   "metadata": {},
   "outputs": [
    {
     "data": {
      "text/plain": [
       "'{\"toxic\": \"0.8699616\", \"severe_toxic\": \"0.24234846\", \"obscene\": \"0.58386284\", \"threat\": \"0.117777675\", \"insult\": \"0.5546944\", \"identity_hate\": \"0.23453122\"}'"
      ]
     },
     "execution_count": 13,
     "metadata": {},
     "output_type": "execute_result"
    }
   ],
   "source": [
    "json.dumps(d)"
   ]
  },
  {
   "cell_type": "code",
   "execution_count": 14,
   "metadata": {},
   "outputs": [],
   "source": [
    "import requests,json"
   ]
  },
  {
   "cell_type": "code",
   "execution_count": 16,
   "metadata": {},
   "outputs": [
    {
     "data": {
      "text/plain": [
       "'Congrats! Server is working'"
      ]
     },
     "execution_count": 16,
     "metadata": {},
     "output_type": "execute_result"
    }
   ],
   "source": [
    "x = requests.get('http://localhost:5000')\n",
    "x.text"
   ]
  },
  {
   "cell_type": "code",
   "execution_count": 17,
   "metadata": {},
   "outputs": [
    {
     "data": {
      "text/plain": [
       "'{\"comment\": \"i hate you. i will kill you\"}'"
      ]
     },
     "execution_count": 17,
     "metadata": {},
     "output_type": "execute_result"
    }
   ],
   "source": [
    "data = {'comment':'i hate you. i will kill you'}\n",
    "data = json.dumps(data)\n",
    "data"
   ]
  },
  {
   "cell_type": "code",
   "execution_count": 21,
   "metadata": {},
   "outputs": [
    {
     "name": "stdout",
     "output_type": "stream",
     "text": [
      "{\n",
      "  \"result\": {\n",
      "    \"identity_hate\": \"0.1768811\", \n",
      "    \"insult\": \"0.57081896\", \n",
      "    \"obscene\": \"0.59276605\", \n",
      "    \"severe_toxic\": \"0.22603741\", \n",
      "    \"threat\": \"0.10011703\", \n",
      "    \"toxic\": \"0.8966621\"\n",
      "  }\n",
      "}\n",
      "\n"
     ]
    }
   ],
   "source": [
    "x = requests.post('http://localhost:5000/get_prediction',data)\n",
    "print(x.text)"
   ]
  },
  {
   "cell_type": "markdown",
   "metadata": {},
   "source": [
    "# uWSGI API test from ubuntu at AWS"
   ]
  },
  {
   "cell_type": "code",
   "execution_count": 26,
   "metadata": {},
   "outputs": [],
   "source": [
    "import requests,json"
   ]
  },
  {
   "cell_type": "code",
   "execution_count": 28,
   "metadata": {},
   "outputs": [
    {
     "data": {
      "text/plain": [
       "'Congrats! Server is working'"
      ]
     },
     "execution_count": 28,
     "metadata": {},
     "output_type": "execute_result"
    }
   ],
   "source": [
    "x = requests.get('http://3.137.207.105')\n",
    "x.text"
   ]
  },
  {
   "cell_type": "code",
   "execution_count": 25,
   "metadata": {},
   "outputs": [
    {
     "name": "stdout",
     "output_type": "stream",
     "text": [
      "{\"result\":{\"identity_hate\":\"0.1768811\",\"insult\":\"0.570819\",\"obscene\":\"0.59276605\",\"severe_toxic\":\"0.22603741\",\"threat\":\"0.10011706\",\"toxic\":\"0.89666224\"}}\n",
      "\n",
      "{\"result\":{\"identity_hate\":\"0.1768811\",\"insult\":\"0.570819\",\"obscene\":\"0.59276605\",\"severe_toxic\":\"0.22603741\",\"threat\":\"0.10011706\",\"toxic\":\"0.89666224\"}}\n",
      "\n",
      "{\"result\":{\"identity_hate\":\"0.1768811\",\"insult\":\"0.570819\",\"obscene\":\"0.59276605\",\"severe_toxic\":\"0.22603741\",\"threat\":\"0.10011706\",\"toxic\":\"0.89666224\"}}\n",
      "\n",
      "{\"result\":{\"identity_hate\":\"0.1768811\",\"insult\":\"0.570819\",\"obscene\":\"0.59276605\",\"severe_toxic\":\"0.22603741\",\"threat\":\"0.10011706\",\"toxic\":\"0.89666224\"}}\n",
      "\n",
      "{\"result\":{\"identity_hate\":\"0.1768811\",\"insult\":\"0.570819\",\"obscene\":\"0.59276605\",\"severe_toxic\":\"0.22603741\",\"threat\":\"0.10011706\",\"toxic\":\"0.89666224\"}}\n",
      "\n",
      "{\"result\":{\"identity_hate\":\"0.1768811\",\"insult\":\"0.570819\",\"obscene\":\"0.59276605\",\"severe_toxic\":\"0.22603741\",\"threat\":\"0.10011706\",\"toxic\":\"0.89666224\"}}\n",
      "\n",
      "{\"result\":{\"identity_hate\":\"0.1768811\",\"insult\":\"0.570819\",\"obscene\":\"0.59276605\",\"severe_toxic\":\"0.22603741\",\"threat\":\"0.10011706\",\"toxic\":\"0.89666224\"}}\n",
      "\n",
      "{\"result\":{\"identity_hate\":\"0.1768811\",\"insult\":\"0.570819\",\"obscene\":\"0.59276605\",\"severe_toxic\":\"0.22603741\",\"threat\":\"0.10011706\",\"toxic\":\"0.89666224\"}}\n",
      "\n",
      "529 ms ± 7.97 ms per loop (mean ± std. dev. of 7 runs, 1 loop each)\n"
     ]
    }
   ],
   "source": [
    "%%timeit\n",
    "x = requests.post('http://3.137.207.105:5000/get_prediction',data)\n",
    "print(x.text)"
   ]
  },
  {
   "cell_type": "markdown",
   "metadata": {},
   "source": [
    "# NGINX API Test from ubuntu in AWS"
   ]
  },
  {
   "cell_type": "code",
   "execution_count": 29,
   "metadata": {},
   "outputs": [
    {
     "data": {
      "text/plain": [
       "'Congrats! Server is working'"
      ]
     },
     "execution_count": 29,
     "metadata": {},
     "output_type": "execute_result"
    }
   ],
   "source": [
    "import requests,json\n",
    "\n",
    "x = requests.get('http://3.137.207.105')\n",
    "x.text\n"
   ]
  },
  {
   "cell_type": "code",
   "execution_count": 31,
   "metadata": {},
   "outputs": [
    {
     "name": "stdout",
     "output_type": "stream",
     "text": [
      "{\"result\":{\"identity_hate\":\"0.1768811\",\"insult\":\"0.570819\",\"obscene\":\"0.59276605\",\"severe_toxic\":\"0.22603741\",\"threat\":\"0.10011706\",\"toxic\":\"0.89666224\"}}\n",
      "\n",
      "{\"result\":{\"identity_hate\":\"0.1768811\",\"insult\":\"0.570819\",\"obscene\":\"0.59276605\",\"severe_toxic\":\"0.22603741\",\"threat\":\"0.10011706\",\"toxic\":\"0.89666224\"}}\n",
      "\n",
      "{\"result\":{\"identity_hate\":\"0.1768811\",\"insult\":\"0.570819\",\"obscene\":\"0.59276605\",\"severe_toxic\":\"0.22603741\",\"threat\":\"0.10011706\",\"toxic\":\"0.89666224\"}}\n",
      "\n",
      "{\"result\":{\"identity_hate\":\"0.1768811\",\"insult\":\"0.570819\",\"obscene\":\"0.59276605\",\"severe_toxic\":\"0.22603741\",\"threat\":\"0.10011706\",\"toxic\":\"0.89666224\"}}\n",
      "\n",
      "{\"result\":{\"identity_hate\":\"0.1768811\",\"insult\":\"0.570819\",\"obscene\":\"0.59276605\",\"severe_toxic\":\"0.22603741\",\"threat\":\"0.10011706\",\"toxic\":\"0.89666224\"}}\n",
      "\n",
      "{\"result\":{\"identity_hate\":\"0.1768811\",\"insult\":\"0.570819\",\"obscene\":\"0.59276605\",\"severe_toxic\":\"0.22603741\",\"threat\":\"0.10011706\",\"toxic\":\"0.89666224\"}}\n",
      "\n",
      "{\"result\":{\"identity_hate\":\"0.1768811\",\"insult\":\"0.570819\",\"obscene\":\"0.59276605\",\"severe_toxic\":\"0.22603741\",\"threat\":\"0.10011706\",\"toxic\":\"0.89666224\"}}\n",
      "\n",
      "{\"result\":{\"identity_hate\":\"0.1768811\",\"insult\":\"0.570819\",\"obscene\":\"0.59276605\",\"severe_toxic\":\"0.22603741\",\"threat\":\"0.10011706\",\"toxic\":\"0.89666224\"}}\n",
      "\n",
      "523 ms ± 4.55 ms per loop (mean ± std. dev. of 7 runs, 1 loop each)\n"
     ]
    }
   ],
   "source": [
    "%%timeit\n",
    "x = requests.post('http://3.137.207.105/get_prediction',data)\n",
    "print(x.text)"
   ]
  },
  {
   "cell_type": "code",
   "execution_count": null,
   "metadata": {},
   "outputs": [],
   "source": []
  }
 ],
 "metadata": {
  "kernelspec": {
   "display_name": "Python 3",
   "language": "python",
   "name": "python3"
  },
  "language_info": {
   "codemirror_mode": {
    "name": "ipython",
    "version": 3
   },
   "file_extension": ".py",
   "mimetype": "text/x-python",
   "name": "python",
   "nbconvert_exporter": "python",
   "pygments_lexer": "ipython3",
   "version": "3.7.6"
  }
 },
 "nbformat": 4,
 "nbformat_minor": 4
}
